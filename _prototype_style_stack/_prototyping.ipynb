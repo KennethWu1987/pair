{
 "cells": [
  {
   "cell_type": "code",
   "execution_count": 1,
   "metadata": {},
   "outputs": [
    {
     "name": "stderr",
     "output_type": "stream",
     "text": [
      "Using TensorFlow backend.\n",
      "/Users/yuanhunglo/anaconda/envs/keras/lib/python3.6/site-packages/tensorflow/python/framework/dtypes.py:526: FutureWarning: Passing (type, 1) or '1type' as a synonym of type is deprecated; in a future version of numpy, it will be understood as (type, (1,)) / '(1,)type'.\n",
      "  _np_qint8 = np.dtype([(\"qint8\", np.int8, 1)])\n",
      "/Users/yuanhunglo/anaconda/envs/keras/lib/python3.6/importlib/_bootstrap.py:219: ImportWarning: can't resolve package from __spec__ or __package__, falling back on __name__ and __path__\n",
      "  return f(*args, **kwds)\n",
      "/Users/yuanhunglo/anaconda/envs/keras/lib/python3.6/site-packages/tensorflow/python/keras/backend.py:5201: ResourceWarning: unclosed file <_io.TextIOWrapper name='/Users/yuanhunglo/.keras/keras.json' mode='r' encoding='UTF-8'>\n",
      "  _config = json.load(open(_config_path))\n",
      "/Users/yuanhunglo/Documents/insight/repos/deep-style-curator/_prototype_style_stack/style_stack.py:93: DeprecationWarning: invalid escape sequence \\.\n",
      "  info = re.search(f'{input_dir}index-(.+?)-part(.+?)\\.index', f)\n"
     ]
    }
   ],
   "source": [
    "import warnings\n",
    "warnings.filterwarnings(action='once')\n",
    "\n",
    "from keras.applications import VGG16\n",
    "from keras.applications.imagenet_utils import preprocess_input\n",
    "from keras.utils import plot_model\n",
    "from keras.models import Model\n",
    "from keras.preprocessing import image\n",
    "import matplotlib.pyplot as plt\n",
    "import numpy as np\n",
    "import os\n",
    "import random\n",
    "from sklearn.decomposition import PCA\n",
    "from scipy.spatial import distance\n",
    "from PIL import Image\n",
    "\n",
    "from utils import get_image_paths, load_image, get_concatenated_images, plot_results, pdf_results\n",
    "from configs import *\n",
    "from run_style_similarity_search import *\n",
    "from style_stack import StyleStack"
   ]
  },
  {
   "cell_type": "code",
   "execution_count": 4,
   "metadata": {},
   "outputs": [
    {
     "name": "stdout",
     "output_type": "stream",
     "text": [
      "keeping 54 image_paths to analyze\n"
     ]
    }
   ],
   "source": [
    "# initialize model\n",
    "image_paths = get_image_paths('../data/bed')\n",
    "model = VGG16(weights='imagenet', include_top=True)\n",
    "layer_name, style_feature_model = get_embedding_model(model, 1)"
   ]
  },
  {
   "cell_type": "code",
   "execution_count": 5,
   "metadata": {},
   "outputs": [
    {
     "name": "stdout",
     "output_type": "stream",
     "text": [
      "analyzing image 0 / 54\n",
      "finished extracting 54 embeddings for 54 images with 0 failures\n"
     ]
    }
   ],
   "source": [
    "# generate style embeddings\n",
    "valid_image_paths, style_embeddings = generate_embeddings(style_feature_model, image_paths)\n",
    "query_image_idx = int(len(valid_image_paths) * random.random())"
   ]
  },
  {
   "cell_type": "code",
   "execution_count": 6,
   "metadata": {},
   "outputs": [],
   "source": [
    "# generate style features w/ PCA\n",
    "style_features = pca(style_embeddings, None)"
   ]
  },
  {
   "cell_type": "code",
   "execution_count": 7,
   "metadata": {},
   "outputs": [],
   "source": [
    "# find similarity from PCA features based on cosine sim.\n",
    "closest_image_indices_style = get_closest_indices(query_image_idx, style_features)"
   ]
  },
  {
   "cell_type": "code",
   "execution_count": 8,
   "metadata": {},
   "outputs": [
    {
     "name": "stdout",
     "output_type": "stream",
     "text": [
      "Result image saved at ../output/image_result.png\n"
     ]
    }
   ],
   "source": [
    "# save results\n",
    "results_image_paths_style = [valid_image_paths[i] for i in closest_image_indices_style]\n",
    "save_image(results_image_paths_style)"
   ]
  },
  {
   "cell_type": "markdown",
   "metadata": {},
   "source": [
    "# Modify StyleStack"
   ]
  },
  {
   "cell_type": "code",
   "execution_count": 2,
   "metadata": {},
   "outputs": [
    {
     "name": "stdout",
     "output_type": "stream",
     "text": [
      "WARNING:tensorflow:From /Users/yuanhunglo/anaconda/envs/keras/lib/python3.6/site-packages/tensorflow/python/ops/resource_variable_ops.py:435: colocate_with (from tensorflow.python.framework.ops) is deprecated and will be removed in a future version.\n",
      "Instructions for updating:\n",
      "Colocations handled automatically by placer.\n"
     ]
    }
   ],
   "source": [
    "# build parameters\n",
    "image_dir = '../data/chair'\n",
    "model = VGG16(weights='imagenet', include_top=False)\n",
    "lib_name = 'raw'\n",
    "n_results = 5"
   ]
  },
  {
   "cell_type": "code",
   "execution_count": 23,
   "metadata": {},
   "outputs": [
    {
     "name": "stdout",
     "output_type": "stream",
     "text": [
      "keeping 106 image_paths to analyze\n",
      "index time: 889.734 ms\n"
     ]
    }
   ],
   "source": [
    "# build, save, re-load, query, and plot\n",
    "stack = StyleStack.build(image_dir, model)\n",
    "stack.save(lib_name)\n",
    "del stack"
   ]
  },
  {
   "cell_type": "code",
   "execution_count": 9,
   "metadata": {},
   "outputs": [
    {
     "name": "stdout",
     "output_type": "stream",
     "text": [
      "query time: 581.479 ms\n",
      "[72, 4, 23, 18, 65]\n"
     ]
    }
   ],
   "source": [
    "# \n",
    "stack = StyleStack.load(lib_name);\n",
    "query_image_path = '../data/dining_table/902.224.07.jpg'\n",
    "results = stack.query(query_image_path, None, n_results, write_output=False);"
   ]
  },
  {
   "cell_type": "code",
   "execution_count": 10,
   "metadata": {},
   "outputs": [
    {
     "name": "stdout",
     "output_type": "stream",
     "text": [
      "Result image saved at ../output/image_result.png\n"
     ]
    }
   ],
   "source": [
    "# save results\n",
    "OUTPUT_DIR = '../output/'\n",
    "save_image([query_image_path] + results['results_files'], OUTPUT_DIR+'table_chair_4.png')"
   ]
  }
 ],
 "metadata": {
  "kernelspec": {
   "display_name": "Python [conda env:keras]",
   "language": "python",
   "name": "conda-env-keras-py"
  },
  "language_info": {
   "codemirror_mode": {
    "name": "ipython",
    "version": 3
   },
   "file_extension": ".py",
   "mimetype": "text/x-python",
   "name": "python",
   "nbconvert_exporter": "python",
   "pygments_lexer": "ipython3",
   "version": "3.6.10"
  }
 },
 "nbformat": 4,
 "nbformat_minor": 2
}
